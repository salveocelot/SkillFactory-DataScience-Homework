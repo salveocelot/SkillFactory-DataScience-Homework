{
 "cells": [
  {
   "cell_type": "markdown",
   "metadata": {},
   "source": [
    "## Алгоритм угадывания числа за минимальное количество попыток"
   ]
  },
  {
   "cell_type": "markdown",
   "metadata": {},
   "source": [
    "### Алгоритм предполагает, что первое число для угадывания задаем равным 50, и, сравнивая с загаданным, понимаем в каком диапазоне находится загаданное число от 0 до 50 или от 51 до 100. Следующая попытка угадать число приравнивает его к середине диапазона, определенного на предыдущем шаге. Так уменьшаем диапазон в 2 раза на каждом шаге, пока в итоге не получим искомое число."
   ]
  },
  {
   "cell_type": "code",
   "execution_count": 1,
   "metadata": {},
   "outputs": [],
   "source": [
    "import numpy as np\n",
    "\n",
    "def random_predict(number:int=1) -> int:\n",
    "    \"\"\"Алгоритм угадывания числа за минимальное количество попыток\n",
    "\n",
    "    Args:\n",
    "        random_predict ([type]): функция угадывания\n",
    "\n",
    "    Returns:\n",
    "        int: количество попыток\n",
    "    \"\"\"\n",
    "    count=0\n",
    "    predict_number = 50 #на первой итерации задаем предполагаемое число равным 50\n",
    "    max=100 # задаем минимум и максимум исходного интервала поиска\n",
    "    min=0\n",
    "\n",
    "    while True:\n",
    "        count += 1\n",
    "        if predict_number < number:\n",
    "            min=predict_number\n",
    "            predict_number=(max+min)//2\n",
    "\n",
    "        elif predict_number > number:\n",
    "            max=predict_number\n",
    "            predict_number=(max+min)//2\n",
    "        \n",
    "        else:\n",
    "            break # конец игры, выход из цикла\n",
    "    return(count)               \n",
    " "
   ]
  },
  {
   "cell_type": "markdown",
   "metadata": {},
   "source": [
    "# Угадываем число n раз и считаем среднее"
   ]
  },
  {
   "cell_type": "code",
   "execution_count": 2,
   "metadata": {},
   "outputs": [
    {
     "name": "stdout",
     "output_type": "stream",
     "text": [
      "Ваш алгоритм угадывает число в среднем за: 5 попыток\n"
     ]
    }
   ],
   "source": [
    "def score_game(random_predict) -> int:\n",
    "    \"\"\"За какое количество попыток в среднем из 1000 подходов угадывает наш алгоритм\n",
    "\n",
    "    Args:\n",
    "        random_predict ([type]): функция угадывания\n",
    "\n",
    "    Returns:\n",
    "        int: среднее количество попыток\n",
    "    \"\"\"\n",
    "\n",
    "    count_ls = [] # список для сохранения количества попыток\n",
    "    np.random.seed(1) # фиксируем сид для воспроизводимости\n",
    "    random_array = np.random.randint(1, 101, size=(100)) # загадали список чисел\n",
    "\n",
    "    for number in random_array:\n",
    "        count_ls.append(random_predict(number))\n",
    "\n",
    "    score = int(np.mean(count_ls)) # находим среднее количество попыток\n",
    "\n",
    "    print(f'Ваш алгоритм угадывает число в среднем за: {score} попыток')\n",
    "    return(score)\n",
    "\n",
    "# RUN\n",
    "if __name__=='__main__':\n",
    "    score_game(random_predict)\n"
   ]
  }
 ],
 "metadata": {
  "kernelspec": {
   "display_name": "Python 3.8.8 64-bit (system)",
   "language": "python",
   "name": "python3"
  },
  "language_info": {
   "codemirror_mode": {
    "name": "ipython",
    "version": 3
   },
   "file_extension": ".py",
   "mimetype": "text/x-python",
   "name": "python",
   "nbconvert_exporter": "python",
   "pygments_lexer": "ipython3",
   "version": "3.8.8"
  },
  "orig_nbformat": 4,
  "vscode": {
   "interpreter": {
    "hash": "23cc1b66c21dd8db2fc452c49f8d8f03bfd0fee26288ec500675dffed698a47b"
   }
  }
 },
 "nbformat": 4,
 "nbformat_minor": 2
}
